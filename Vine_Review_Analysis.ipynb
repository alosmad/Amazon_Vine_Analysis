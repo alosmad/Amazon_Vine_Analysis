{
  "nbformat": 4,
  "nbformat_minor": 0,
  "metadata": {
    "colab": {
      "provenance": []
    },
    "kernelspec": {
      "name": "python3",
      "display_name": "Python 3"
    },
    "language_info": {
      "name": "python"
    }
  },
  "cells": [
    {
      "cell_type": "code",
      "execution_count": 1,
      "metadata": {
        "colab": {
          "base_uri": "https://localhost:8080/"
        },
        "id": "wpcsMLWpZMKd",
        "outputId": "ea788c71-8e96-4358-8118-da979b39dfb3"
      },
      "outputs": [
        {
          "output_type": "stream",
          "name": "stdout",
          "text": [
            "\r0% [Working]\r            \rGet:1 http://security.ubuntu.com/ubuntu focal-security InRelease [114 kB]\n",
            "\r0% [Connecting to archive.ubuntu.com (185.125.190.39)] [1 InRelease 14.2 kB/114\r                                                                               \rGet:2 https://cloud.r-project.org/bin/linux/ubuntu focal-cran40/ InRelease [3,622 B]\n",
            "\r0% [Waiting for headers] [1 InRelease 48.9 kB/114 kB 43%] [2 InRelease 0 B/3,62\r0% [Waiting for headers] [1 InRelease 80.8 kB/114 kB 71%] [Waiting for headers]\r0% [Waiting for headers] [Waiting for headers] [Connecting to ppa.launchpad.net\r                                                                               \rHit:3 http://archive.ubuntu.com/ubuntu focal InRelease\n",
            "\r                                                                               \r0% [Waiting for headers] [Waiting for headers]\r                                              \rIgn:4 https://developer.download.nvidia.com/compute/machine-learning/repos/ubuntu2004/x86_64  InRelease\n",
            "\r0% [Waiting for headers] [Waiting for headers] [Waiting for headers]\r                                                                    \rGet:5 https://developer.download.nvidia.com/compute/cuda/repos/ubuntu2004/x86_64  InRelease [1,581 B]\n",
            "Hit:6 https://developer.download.nvidia.com/compute/machine-learning/repos/ubuntu2004/x86_64  Release\n",
            "Hit:7 http://ppa.launchpad.net/c2d4u.team/c2d4u4.0+/ubuntu focal InRelease\n",
            "Get:8 http://archive.ubuntu.com/ubuntu focal-updates InRelease [114 kB]\n",
            "Hit:9 http://ppa.launchpad.net/cran/libgit2/ubuntu focal InRelease\n",
            "Get:10 http://ppa.launchpad.net/deadsnakes/ppa/ubuntu focal InRelease [18.1 kB]\n",
            "Get:11 http://archive.ubuntu.com/ubuntu focal-backports InRelease [108 kB]\n",
            "Get:12 http://security.ubuntu.com/ubuntu focal-security/restricted amd64 Packages [1,920 kB]\n",
            "Hit:13 http://ppa.launchpad.net/graphics-drivers/ppa/ubuntu focal InRelease\n",
            "Get:14 http://security.ubuntu.com/ubuntu focal-security/main amd64 Packages [2,476 kB]\n",
            "Get:15 http://security.ubuntu.com/ubuntu focal-security/universe amd64 Packages [993 kB]\n",
            "Get:16 https://developer.download.nvidia.com/compute/cuda/repos/ubuntu2004/x86_64  Packages [871 kB]\n",
            "Get:18 http://archive.ubuntu.com/ubuntu focal-updates/main amd64 Packages [2,950 kB]\n",
            "Get:19 http://ppa.launchpad.net/deadsnakes/ppa/ubuntu focal/main amd64 Packages [29.5 kB]\n",
            "Get:20 http://archive.ubuntu.com/ubuntu focal-updates/restricted amd64 Packages [2,047 kB]\n",
            "Get:21 http://archive.ubuntu.com/ubuntu focal-updates/universe amd64 Packages [1,295 kB]\n",
            "Fetched 12.9 MB in 4s (3,237 kB/s)\n",
            "Reading package lists... Done\n"
          ]
        }
      ],
      "source": [
        "import os\n",
        "# Find the latest version of spark 3.2 from http://www.apache.org/dist/spark/ and enter as the spark version\n",
        "# For example:\n",
        "# spark_version = 'spark-3.2.3'\n",
        "spark_version = 'spark-3.2.3'\n",
        "os.environ['SPARK_VERSION']=spark_version\n",
        "\n",
        "# Install Spark and Java\n",
        "!apt-get update\n",
        "!apt-get install openjdk-11-jdk-headless -qq > /dev/null\n",
        "!wget -q http://www.apache.org/dist/spark/$SPARK_VERSION/$SPARK_VERSION-bin-hadoop2.7.tgz\n",
        "!tar xf $SPARK_VERSION-bin-hadoop2.7.tgz\n",
        "!pip install -q findspark\n",
        "\n",
        "# Set Environment Variables\n",
        "import os\n",
        "os.environ[\"JAVA_HOME\"] = \"/usr/lib/jvm/java-11-openjdk-amd64\"\n",
        "os.environ[\"SPARK_HOME\"] = f\"/content/{spark_version}-bin-hadoop2.7\"\n",
        "\n",
        "# Start a SparkSession\n",
        "import findspark\n",
        "findspark.init()"
      ]
    },
    {
      "cell_type": "code",
      "source": [
        "# Download the Postgres driver that will allow Spark to interact with Postgres.\n",
        "!wget https://jdbc.postgresql.org/download/postgresql-42.2.16.jar"
      ],
      "metadata": {
        "colab": {
          "base_uri": "https://localhost:8080/"
        },
        "id": "RlPZ8gsuZZDP",
        "outputId": "eb012497-cd48-4575-bd98-f4709e7cf359"
      },
      "execution_count": 2,
      "outputs": [
        {
          "output_type": "stream",
          "name": "stdout",
          "text": [
            "--2023-02-09 14:03:36--  https://jdbc.postgresql.org/download/postgresql-42.2.16.jar\n",
            "Resolving jdbc.postgresql.org (jdbc.postgresql.org)... 72.32.157.228, 2001:4800:3e1:1::228\n",
            "Connecting to jdbc.postgresql.org (jdbc.postgresql.org)|72.32.157.228|:443... connected.\n",
            "HTTP request sent, awaiting response... 200 OK\n",
            "Length: 1002883 (979K) [application/java-archive]\n",
            "Saving to: ‘postgresql-42.2.16.jar’\n",
            "\n",
            "postgresql-42.2.16. 100%[===================>] 979.38K  5.30MB/s    in 0.2s    \n",
            "\n",
            "2023-02-09 14:03:36 (5.30 MB/s) - ‘postgresql-42.2.16.jar’ saved [1002883/1002883]\n",
            "\n"
          ]
        }
      ]
    },
    {
      "cell_type": "code",
      "source": [
        "from pyspark.sql import SparkSession\n",
        "spark = SparkSession.builder.appName(\"M17-Amazon-Challenge\").config(\"spark.driver.extraClassPath\",\"/content/postgresql-42.2.16.jar\").getOrCreate()"
      ],
      "metadata": {
        "id": "72UcySQhZeV4"
      },
      "execution_count": 3,
      "outputs": []
    },
    {
      "cell_type": "code",
      "source": [
        "from pyspark import SparkFiles\n",
        "url = \"https://s3.amazonaws.com/amazon-reviews-pds/tsv/amazon_reviews_us_Musical_Instruments_v1_00.tsv.gz\"\n",
        "spark.sparkContext.addFile(url)\n",
        "df = spark.read.option(\"encoding\", \"UTF-8\").csv(SparkFiles.get(\"\"), sep=\"\\t\", header=True, inferSchema=True)\n",
        "df.show()"
      ],
      "metadata": {
        "colab": {
          "base_uri": "https://localhost:8080/"
        },
        "id": "KjHZEXVnZjok",
        "outputId": "3c204748-f3ed-47e9-ea18-a164a4665fe2"
      },
      "execution_count": 4,
      "outputs": [
        {
          "output_type": "stream",
          "name": "stdout",
          "text": [
            "+-----------+-----------+--------------+----------+--------------+--------------------+-------------------+-----------+-------------+-----------+----+-----------------+--------------------+--------------------+-----------+\n",
            "|marketplace|customer_id|     review_id|product_id|product_parent|       product_title|   product_category|star_rating|helpful_votes|total_votes|vine|verified_purchase|     review_headline|         review_body|review_date|\n",
            "+-----------+-----------+--------------+----------+--------------+--------------------+-------------------+-----------+-------------+-----------+----+-----------------+--------------------+--------------------+-----------+\n",
            "|         US|   45610553| RMDCHWD0Y5OZ9|B00HH62VB6|     618218723|AGPtek® 10 Isolat...|Musical Instruments|          3|            0|          1|   N|                N|         Three Stars|Works very good, ...| 2015-08-31|\n",
            "|         US|   14640079| RZSL0BALIYUNU|B003LRN53I|     986692292|Sennheiser HD203 ...|Musical Instruments|          5|            0|          0|   N|                Y|          Five Stars|Nice headphones a...| 2015-08-31|\n",
            "|         US|    6111003| RIZR67JKUDBI0|B0006VMBHI|     603261968|AudioQuest LP rec...|Musical Instruments|          3|            0|          1|   N|                Y|         Three Stars|removes dust. doe...| 2015-08-31|\n",
            "|         US|    1546619|R27HL570VNL85F|B002B55TRG|     575084461|Hohner Inc. 560BX...|Musical Instruments|          5|            0|          0|   N|                Y|I purchase these ...|I purchase these ...| 2015-08-31|\n",
            "|         US|   12222213|R34EBU9QDWJ1GD|B00N1YPXW2|     165236328|Blue Yeti USB Mic...|Musical Instruments|          5|            0|          0|   N|                Y|          Five Stars|This is an awesom...| 2015-08-31|\n",
            "|         US|   46018513|R1WCUI4Z1SIQEO|B001N4GRGS|     134151483|Middle Atlantic P...|Musical Instruments|          5|            0|          0|   N|                N|          Five Stars|Used to cool equi...| 2015-08-31|\n",
            "|         US|   10225065| RL5LNO26GAVJ1|B009PJRMHQ|     694166585|Kmise 1pc Pickgua...|Musical Instruments|          2|            3|          4|   N|                Y|Will not Fit Epip...|Note- Does not Fi...| 2015-08-31|\n",
            "|         US|    6356995|R3GYQ5W8JHP8SB|B00NKBDAZS|     446431775|Kealoha Concert U...|Musical Instruments|          5|            0|          0|   N|                Y|          Five Stars|Well built Ukulel...| 2015-08-31|\n",
            "|         US|   35297198|R30SHYQXGG5EYC|B006MIU7U2|     125871705|Halco 80000 - MR1...|Musical Instruments|          5|            0|          0|   N|                Y|Works fine. Hope ...|Had to replace a ...| 2015-08-31|\n",
            "|         US|   32139520|R14YLXA56NP51I|B000FIBD0I|     771888534|Gator GPTBLACK Pl...|Musical Instruments|          5|            1|          1|   N|                N|I upgraded the po...|I've owned multip...| 2015-08-31|\n",
            "|         US|   36060782|R1ZH0HSH38IOTZ|B0002E52GG|      68535945|Hetman 1 - Light ...|Musical Instruments|          5|            0|          0|   N|                Y|My son's favourit...|Consistent qualit...| 2015-08-31|\n",
            "|         US|    5301309|R3H53KLLC210XI|B00RZIH52G|     725541773|Dragonpad pop fil...|Musical Instruments|          4|            0|          0|   N|                Y|Great pop filter ...|by far the best p...| 2015-08-31|\n",
            "|         US|   37472935|R3OOR877NGA8JK|B001792BAU|      46570323|DharmaObjects Rel...|Musical Instruments|          3|            0|          0|   N|                Y|                  Ok|Beautiful set. On...| 2015-08-31|\n",
            "|         US|   33578270|R1BY7WKOZ3KMH0|B009GSKW1Y|     547963417|Musiclily SSS Pla...|Musical Instruments|          2|            0|          0|   N|                Y|           Two Stars|Bridge pickup was...| 2015-08-31|\n",
            "|         US|   22070226| RXP1TFSWE8EG9|B0002F4TKA|     436074323|Vic Firth America...|Musical Instruments|          5|            0|          0|   N|                Y|          Five Stars|Feels good and la...| 2015-08-31|\n",
            "|         US|   52862655|R3J44DPP12OTLJ|B00K17YFBW|      81933093|Guitar Stand for ...|Musical Instruments|          5|            0|          0|   N|                Y|Great stand... on...|I love the stand....| 2015-08-31|\n",
            "|         US|    4427243| RFOV69SK0T676|B00EQ24HJS|     669249276|Generic 3PLY Faux...|Musical Instruments|          5|            0|          0|   N|                Y|Looks great. You ...|On time. Looks gr...| 2015-08-31|\n",
            "|         US|   14108571|R2HUWDNW62FOL3|B00IBOYTUE|     749537231|Audio 2000 6525 3...|Musical Instruments|          1|            0|          0|   N|                Y|  Poor sound quality|I was hoping it w...| 2015-08-31|\n",
            "|         US|   27314089|R1KSU30XZGR452|B00FBRUSAE|     792472601|Sawtooth ST-AMP-1...|Musical Instruments|          5|            0|          0|   N|                Y|Perfect for the b...|Good sound for it...| 2015-08-31|\n",
            "|         US|   16735445|R2TZVLLTSHA07N|B0113D2QUO|     269114019|Upado Unlimited G...|Musical Instruments|          5|            1|          1|   N|                Y|It really is a mu...|Wow! I didn't exp...| 2015-08-31|\n",
            "+-----------+-----------+--------------+----------+--------------+--------------------+-------------------+-----------+-------------+-----------+----+-----------------+--------------------+--------------------+-----------+\n",
            "only showing top 20 rows\n",
            "\n"
          ]
        }
      ]
    },
    {
      "cell_type": "code",
      "source": [
        "# Create the vine_table. DataFrame\n",
        "vine_df = df.select([\"review_id\",\"star_rating\",\"helpful_votes\",\"total_votes\",\"vine\",\"verified_purchase\"])\n",
        "vine_df.show()"
      ],
      "metadata": {
        "colab": {
          "base_uri": "https://localhost:8080/"
        },
        "id": "pfGGmFc7ZtG_",
        "outputId": "6c6c8e00-e30d-4314-d079-90d83d8b5950"
      },
      "execution_count": 5,
      "outputs": [
        {
          "output_type": "stream",
          "name": "stdout",
          "text": [
            "+--------------+-----------+-------------+-----------+----+-----------------+\n",
            "|     review_id|star_rating|helpful_votes|total_votes|vine|verified_purchase|\n",
            "+--------------+-----------+-------------+-----------+----+-----------------+\n",
            "| RMDCHWD0Y5OZ9|          3|            0|          1|   N|                N|\n",
            "| RZSL0BALIYUNU|          5|            0|          0|   N|                Y|\n",
            "| RIZR67JKUDBI0|          3|            0|          1|   N|                Y|\n",
            "|R27HL570VNL85F|          5|            0|          0|   N|                Y|\n",
            "|R34EBU9QDWJ1GD|          5|            0|          0|   N|                Y|\n",
            "|R1WCUI4Z1SIQEO|          5|            0|          0|   N|                N|\n",
            "| RL5LNO26GAVJ1|          2|            3|          4|   N|                Y|\n",
            "|R3GYQ5W8JHP8SB|          5|            0|          0|   N|                Y|\n",
            "|R30SHYQXGG5EYC|          5|            0|          0|   N|                Y|\n",
            "|R14YLXA56NP51I|          5|            1|          1|   N|                N|\n",
            "|R1ZH0HSH38IOTZ|          5|            0|          0|   N|                Y|\n",
            "|R3H53KLLC210XI|          4|            0|          0|   N|                Y|\n",
            "|R3OOR877NGA8JK|          3|            0|          0|   N|                Y|\n",
            "|R1BY7WKOZ3KMH0|          2|            0|          0|   N|                Y|\n",
            "| RXP1TFSWE8EG9|          5|            0|          0|   N|                Y|\n",
            "|R3J44DPP12OTLJ|          5|            0|          0|   N|                Y|\n",
            "| RFOV69SK0T676|          5|            0|          0|   N|                Y|\n",
            "|R2HUWDNW62FOL3|          1|            0|          0|   N|                Y|\n",
            "|R1KSU30XZGR452|          5|            0|          0|   N|                Y|\n",
            "|R2TZVLLTSHA07N|          5|            1|          1|   N|                Y|\n",
            "+--------------+-----------+-------------+-----------+----+-----------------+\n",
            "only showing top 20 rows\n",
            "\n"
          ]
        }
      ]
    },
    {
      "cell_type": "code",
      "source": [
        "# 1) Filtered dataframe with total_votes greater or equal than 0\n",
        "vine20_df = vine_df.filter(vine_df[\"total_votes\"]>=20)\n",
        "vine20_df.show()"
      ],
      "metadata": {
        "id": "CUAwZ-MCZ8sV",
        "colab": {
          "base_uri": "https://localhost:8080/"
        },
        "outputId": "20bc690b-da3d-426f-bde4-cdaef4a98e02"
      },
      "execution_count": 6,
      "outputs": [
        {
          "output_type": "stream",
          "name": "stdout",
          "text": [
            "+--------------+-----------+-------------+-----------+----+-----------------+\n",
            "|     review_id|star_rating|helpful_votes|total_votes|vine|verified_purchase|\n",
            "+--------------+-----------+-------------+-----------+----+-----------------+\n",
            "|R2243Y3OD8U6KQ|          5|           47|         61|   N|                N|\n",
            "|R2TGT0CDTCAAHW|          5|           21|         23|   N|                Y|\n",
            "| RX4D22YSXEF4P|          1|           37|         38|   N|                Y|\n",
            "|R3FL2NTLFUSPTQ|          5|           33|         37|   N|                N|\n",
            "|R3QTP3YNZXAPPF|          3|           23|         24|   N|                Y|\n",
            "|R36V6V42VN5AS5|          5|           34|         37|   N|                Y|\n",
            "|R27LZWE27BJPOB|          5|           22|         23|   N|                N|\n",
            "|  RMRD6SMF2AUQ|          3|            4|         21|   N|                N|\n",
            "| RMPCXKWX3T57Y|          1|            1|         73|   N|                N|\n",
            "|R1P7GJ0IN2BRNH|          5|           37|         37|   N|                Y|\n",
            "|R2R6JPF9KOD2HJ|          5|           19|         20|   N|                Y|\n",
            "|R3JM8Z4SP9N3H2|          1|            4|         23|   N|                N|\n",
            "|R2J0ZZGFXKM8KR|          2|           21|         22|   N|                Y|\n",
            "|R238ZSG6TSUBNX|          5|           27|         27|   N|                Y|\n",
            "|R37WGVXA94D62S|          2|            4|         20|   N|                Y|\n",
            "| RC6Y8GYIQZ8YU|          3|           72|         85|   N|                Y|\n",
            "| RFL3TJED8C240|          5|           13|         24|   N|                N|\n",
            "|R3D4P7A8Q1C70F|          5|           22|         27|   N|                Y|\n",
            "|R3PRNAQVQBB9M6|          1|           21|         30|   N|                Y|\n",
            "|R2NTTIW5KBKLYG|          5|           19|         20|   N|                N|\n",
            "+--------------+-----------+-------------+-----------+----+-----------------+\n",
            "only showing top 20 rows\n",
            "\n"
          ]
        }
      ]
    },
    {
      "cell_type": "code",
      "source": [
        "# 2) Filtered dataframe helpful votes divided by total votes is equal to or greater than 50%\n",
        "vine20_df = vine20_df.withColumn('division',vine20_df['helpful_votes']/vine20_df['total_votes'])"
      ],
      "metadata": {
        "id": "cGV3hfc1NS6F"
      },
      "execution_count": 7,
      "outputs": []
    },
    {
      "cell_type": "code",
      "source": [
        "# 2) Filtered dataframe helpful votes divided by total votes is equal to or greater than 50%\n",
        "vine50_df = vine20_df.filter(vine20_df[\"helpful_votes\"] / vine20_df[\"total_votes\"]>=0.5)\n",
        "vine50_df.show()"
      ],
      "metadata": {
        "colab": {
          "base_uri": "https://localhost:8080/"
        },
        "id": "EEuQQEPEuDYx",
        "outputId": "d14c6ea4-1f9f-4c99-9e11-e38fe9a0a07b"
      },
      "execution_count": 8,
      "outputs": [
        {
          "output_type": "stream",
          "name": "stdout",
          "text": [
            "+--------------+-----------+-------------+-----------+----+-----------------+------------------+\n",
            "|     review_id|star_rating|helpful_votes|total_votes|vine|verified_purchase|          division|\n",
            "+--------------+-----------+-------------+-----------+----+-----------------+------------------+\n",
            "|R2243Y3OD8U6KQ|          5|           47|         61|   N|                N|0.7704918032786885|\n",
            "|R2TGT0CDTCAAHW|          5|           21|         23|   N|                Y|0.9130434782608695|\n",
            "| RX4D22YSXEF4P|          1|           37|         38|   N|                Y|0.9736842105263158|\n",
            "|R3FL2NTLFUSPTQ|          5|           33|         37|   N|                N|0.8918918918918919|\n",
            "|R3QTP3YNZXAPPF|          3|           23|         24|   N|                Y|0.9583333333333334|\n",
            "|R36V6V42VN5AS5|          5|           34|         37|   N|                Y| 0.918918918918919|\n",
            "|R27LZWE27BJPOB|          5|           22|         23|   N|                N|0.9565217391304348|\n",
            "|R1P7GJ0IN2BRNH|          5|           37|         37|   N|                Y|               1.0|\n",
            "|R2R6JPF9KOD2HJ|          5|           19|         20|   N|                Y|              0.95|\n",
            "|R2J0ZZGFXKM8KR|          2|           21|         22|   N|                Y|0.9545454545454546|\n",
            "|R238ZSG6TSUBNX|          5|           27|         27|   N|                Y|               1.0|\n",
            "| RC6Y8GYIQZ8YU|          3|           72|         85|   N|                Y|0.8470588235294118|\n",
            "| RFL3TJED8C240|          5|           13|         24|   N|                N|0.5416666666666666|\n",
            "|R3D4P7A8Q1C70F|          5|           22|         27|   N|                Y|0.8148148148148148|\n",
            "|R3PRNAQVQBB9M6|          1|           21|         30|   N|                Y|               0.7|\n",
            "|R2NTTIW5KBKLYG|          5|           19|         20|   N|                N|              0.95|\n",
            "|R3JNDLZ3KACRLG|          5|           29|         33|   N|                N|0.8787878787878788|\n",
            "|R1PVVYYY0Q1HZ0|          5|           21|         21|   N|                Y|               1.0|\n",
            "|R1R9RU7JW0MFR2|          4|           20|         23|   Y|                N|0.8695652173913043|\n",
            "|R1G9N0CW2982PA|          5|           21|         24|   N|                Y|             0.875|\n",
            "+--------------+-----------+-------------+-----------+----+-----------------+------------------+\n",
            "only showing top 20 rows\n",
            "\n"
          ]
        }
      ]
    },
    {
      "cell_type": "code",
      "source": [
        "# 3) Filtered dataframe with Vine paid program\n",
        "vineY_df = vine50_df.filter(vine50_df[\"verified_purchase\"]==\"Y\")\n",
        "vineY_df.show()"
      ],
      "metadata": {
        "colab": {
          "base_uri": "https://localhost:8080/"
        },
        "id": "Rn6zW570OGPy",
        "outputId": "01199127-074c-4542-8d55-aed78384591e"
      },
      "execution_count": 9,
      "outputs": [
        {
          "output_type": "stream",
          "name": "stdout",
          "text": [
            "+--------------+-----------+-------------+-----------+----+-----------------+------------------+\n",
            "|     review_id|star_rating|helpful_votes|total_votes|vine|verified_purchase|          division|\n",
            "+--------------+-----------+-------------+-----------+----+-----------------+------------------+\n",
            "|R2TGT0CDTCAAHW|          5|           21|         23|   N|                Y|0.9130434782608695|\n",
            "| RX4D22YSXEF4P|          1|           37|         38|   N|                Y|0.9736842105263158|\n",
            "|R3QTP3YNZXAPPF|          3|           23|         24|   N|                Y|0.9583333333333334|\n",
            "|R36V6V42VN5AS5|          5|           34|         37|   N|                Y| 0.918918918918919|\n",
            "|R1P7GJ0IN2BRNH|          5|           37|         37|   N|                Y|               1.0|\n",
            "|R2R6JPF9KOD2HJ|          5|           19|         20|   N|                Y|              0.95|\n",
            "|R2J0ZZGFXKM8KR|          2|           21|         22|   N|                Y|0.9545454545454546|\n",
            "|R238ZSG6TSUBNX|          5|           27|         27|   N|                Y|               1.0|\n",
            "| RC6Y8GYIQZ8YU|          3|           72|         85|   N|                Y|0.8470588235294118|\n",
            "|R3D4P7A8Q1C70F|          5|           22|         27|   N|                Y|0.8148148148148148|\n",
            "|R3PRNAQVQBB9M6|          1|           21|         30|   N|                Y|               0.7|\n",
            "|R1PVVYYY0Q1HZ0|          5|           21|         21|   N|                Y|               1.0|\n",
            "|R1G9N0CW2982PA|          5|           21|         24|   N|                Y|             0.875|\n",
            "|R2N8ZFHQBWHMDL|          2|           26|         28|   N|                Y|0.9285714285714286|\n",
            "|R32L3HQ3OONLPQ|          4|           51|         54|   N|                Y|0.9444444444444444|\n",
            "|R2M6QP0EEROQRC|          1|           21|         26|   N|                Y|0.8076923076923077|\n",
            "|R2GW9A2O1PA3Z7|          5|          387|        404|   N|                Y|0.9579207920792079|\n",
            "| R18EZ6AWTJF9L|          3|           40|         41|   N|                Y| 0.975609756097561|\n",
            "|R2OYYMSBKNH7A0|          5|           42|         51|   N|                Y|0.8235294117647058|\n",
            "|R2EKQ26MJ318UD|          4|           57|         65|   N|                Y|0.8769230769230769|\n",
            "+--------------+-----------+-------------+-----------+----+-----------------+------------------+\n",
            "only showing top 20 rows\n",
            "\n"
          ]
        }
      ]
    },
    {
      "cell_type": "code",
      "source": [
        "  # 4) Filtered dataframe with Vine not paid program\n",
        "vineN_df = vine50_df.filter(vine50_df[\"verified_purchase\"]==\"N\")\n",
        "vineN_df.show()"
      ],
      "metadata": {
        "colab": {
          "base_uri": "https://localhost:8080/"
        },
        "id": "s94TjqS7Om_9",
        "outputId": "796ff0c3-69b5-40e1-822e-732f9b5f993d"
      },
      "execution_count": 10,
      "outputs": [
        {
          "output_type": "stream",
          "name": "stdout",
          "text": [
            "+--------------+-----------+-------------+-----------+----+-----------------+------------------+\n",
            "|     review_id|star_rating|helpful_votes|total_votes|vine|verified_purchase|          division|\n",
            "+--------------+-----------+-------------+-----------+----+-----------------+------------------+\n",
            "|R2243Y3OD8U6KQ|          5|           47|         61|   N|                N|0.7704918032786885|\n",
            "|R3FL2NTLFUSPTQ|          5|           33|         37|   N|                N|0.8918918918918919|\n",
            "|R27LZWE27BJPOB|          5|           22|         23|   N|                N|0.9565217391304348|\n",
            "| RFL3TJED8C240|          5|           13|         24|   N|                N|0.5416666666666666|\n",
            "|R2NTTIW5KBKLYG|          5|           19|         20|   N|                N|              0.95|\n",
            "|R3JNDLZ3KACRLG|          5|           29|         33|   N|                N|0.8787878787878788|\n",
            "|R1R9RU7JW0MFR2|          4|           20|         23|   Y|                N|0.8695652173913043|\n",
            "|R2YYNS9L1J2365|          5|           24|         25|   N|                N|              0.96|\n",
            "|R2RSAL8PSYWMU1|          4|           41|         46|   N|                N|0.8913043478260869|\n",
            "|R3G1AY6RV8ZZAA|          3|           71|         77|   N|                N| 0.922077922077922|\n",
            "|R1N3VK5XCV7F2E|          5|           58|         62|   N|                N|0.9354838709677419|\n",
            "|R1XINYGF5NGAIN|          4|           35|         40|   N|                N|             0.875|\n",
            "|R19EFYNN3W8Q07|          5|           26|         32|   Y|                N|            0.8125|\n",
            "|R1FMEGWMXUSKN0|          5|           61|         61|   N|                N|               1.0|\n",
            "|R1AODVQJKL7JOU|          5|           69|         73|   N|                N|0.9452054794520548|\n",
            "|R17RB6PG214DV3|          5|           22|         22|   N|                N|               1.0|\n",
            "|R2VF37RUEH137I|          5|           20|         20|   N|                N|               1.0|\n",
            "|R143DGZCA06GTY|          5|           29|         30|   N|                N|0.9666666666666667|\n",
            "|R23QXLP0P4H8VL|          5|           28|         28|   N|                N|               1.0|\n",
            "|R3DRLB0COFEX0L|          5|           46|         48|   N|                N|0.9583333333333334|\n",
            "+--------------+-----------+-------------+-----------+----+-----------------+------------------+\n",
            "only showing top 20 rows\n",
            "\n"
          ]
        }
      ]
    },
    {
      "cell_type": "code",
      "source": [
        "#Import functions\n",
        "from pyspark.sql.functions import count\n",
        "vine_df.select(count('review_id')).show()"
      ],
      "metadata": {
        "colab": {
          "base_uri": "https://localhost:8080/"
        },
        "id": "zxEwdfD1VM_x",
        "outputId": "c02d0101-dca6-42d3-9830-c40dc961d47f"
      },
      "execution_count": 11,
      "outputs": [
        {
          "output_type": "stream",
          "name": "stdout",
          "text": [
            "+----------------+\n",
            "|count(review_id)|\n",
            "+----------------+\n",
            "|          904765|\n",
            "+----------------+\n",
            "\n"
          ]
        }
      ]
    },
    {
      "cell_type": "code",
      "source": [
        "vineY_df.select(count('review_id')).show()"
      ],
      "metadata": {
        "colab": {
          "base_uri": "https://localhost:8080/"
        },
        "id": "MIq3V2pKZxHA",
        "outputId": "dff2022a-88ac-4dd3-e4c1-ab8b5da7b649"
      },
      "execution_count": 12,
      "outputs": [
        {
          "output_type": "stream",
          "name": "stdout",
          "text": [
            "+----------------+\n",
            "|count(review_id)|\n",
            "+----------------+\n",
            "|            8610|\n",
            "+----------------+\n",
            "\n"
          ]
        }
      ]
    },
    {
      "cell_type": "code",
      "source": [
        "vineN_df.select(count('review_id')).show()"
      ],
      "metadata": {
        "colab": {
          "base_uri": "https://localhost:8080/"
        },
        "id": "AqL-KOO7Z2hf",
        "outputId": "9dd8930c-503e-461e-f3f6-4c68b29ed9e5"
      },
      "execution_count": 13,
      "outputs": [
        {
          "output_type": "stream",
          "name": "stdout",
          "text": [
            "+----------------+\n",
            "|count(review_id)|\n",
            "+----------------+\n",
            "|            5927|\n",
            "+----------------+\n",
            "\n"
          ]
        }
      ]
    },
    {
      "cell_type": "code",
      "source": [
        "vineY_df.select('star_rating').where(vineY_df.star_rating==5).count()"
      ],
      "metadata": {
        "colab": {
          "base_uri": "https://localhost:8080/"
        },
        "id": "r3yfbawBWqBi",
        "outputId": "b1eefb64-9da5-4f15-cfb9-ac3ded5845dd"
      },
      "execution_count": 14,
      "outputs": [
        {
          "output_type": "execute_result",
          "data": {
            "text/plain": [
              "4940"
            ]
          },
          "metadata": {},
          "execution_count": 14
        }
      ]
    },
    {
      "cell_type": "code",
      "source": [
        "vineN_df.select('star_rating').where(vineN_df.star_rating==5).count()"
      ],
      "metadata": {
        "colab": {
          "base_uri": "https://localhost:8080/"
        },
        "id": "SV66hPViW42K",
        "outputId": "211dc213-b324-4a77-83b8-89c5efbe1e26"
      },
      "execution_count": 15,
      "outputs": [
        {
          "output_type": "execute_result",
          "data": {
            "text/plain": [
              "3306"
            ]
          },
          "metadata": {},
          "execution_count": 15
        }
      ]
    },
    {
      "cell_type": "code",
      "source": [
        "vineY_df.agg((vineY_df.select('star_rating').where(vineY_df.star_rating==5).count()) / count('review_id')).show()"
      ],
      "metadata": {
        "colab": {
          "base_uri": "https://localhost:8080/"
        },
        "id": "99KY9o7VgavD",
        "outputId": "ba3ae13b-6fee-4efd-d7a5-3b5ac6b0608b"
      },
      "execution_count": 23,
      "outputs": [
        {
          "output_type": "stream",
          "name": "stdout",
          "text": [
            "+-------------------------+\n",
            "|(4940 / count(review_id))|\n",
            "+-------------------------+\n",
            "|       0.5737514518002322|\n",
            "+-------------------------+\n",
            "\n"
          ]
        }
      ]
    },
    {
      "cell_type": "code",
      "source": [
        "vineN_df.agg((vineN_df.select('star_rating').where(vineN_df.star_rating==5).count()) / count('review_id')).show()"
      ],
      "metadata": {
        "colab": {
          "base_uri": "https://localhost:8080/"
        },
        "id": "1ODNN0lmgrVr",
        "outputId": "1ec67d8c-85ec-490b-d669-717c809ca078"
      },
      "execution_count": 24,
      "outputs": [
        {
          "output_type": "stream",
          "name": "stdout",
          "text": [
            "+-------------------------+\n",
            "|(3306 / count(review_id))|\n",
            "+-------------------------+\n",
            "|       0.5577864012147798|\n",
            "+-------------------------+\n",
            "\n"
          ]
        }
      ]
    }
  ]
}